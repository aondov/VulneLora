{
 "cells": [
  {
   "cell_type": "code",
   "execution_count": null,
   "id": "6c13e0cd-4373-4257-8d2c-2004957d6beb",
   "metadata": {},
   "outputs": [],
   "source": [
    "# RUN THIS BEFORE THE ARP SPOOFING ATTACK\n",
    "spoofed_ip = \"\"\n",
    "curr_target_arp = \"\"\n",
    "curr_target_docker_logs = \"\"\n",
    "\n",
    "with open(\"/opt/vulnelora/output/scripts/target_arp.txt\", \"r\") as arp_file:\n",
    "    curr_target_arp = arp_file.readlines()\n",
    "\n",
    "with open(\"/opt/vulnelora/output/scripts/target_docker_logs.txt\", \"r\") as docker_log_file:\n",
    "    curr_target_docker_logs = docker_log_file.readlines()\n",
    "\n"
   ]
  },
  {
   "cell_type": "code",
   "execution_count": null,
   "id": "d91ab757-2150-464e-b3c9-27697737d795",
   "metadata": {},
   "outputs": [],
   "source": [
    "# RUN THIS AFTER THE ARP SPOOFING ATTACK"
   ]
  }
 ],
 "metadata": {
  "kernelspec": {
   "display_name": "Python 3 (ipykernel)",
   "language": "python",
   "name": "python3"
  },
  "language_info": {
   "codemirror_mode": {
    "name": "ipython",
    "version": 3
   },
   "file_extension": ".py",
   "mimetype": "text/x-python",
   "name": "python",
   "nbconvert_exporter": "python",
   "pygments_lexer": "ipython3",
   "version": "3.9.2"
  }
 },
 "nbformat": 4,
 "nbformat_minor": 5
}
