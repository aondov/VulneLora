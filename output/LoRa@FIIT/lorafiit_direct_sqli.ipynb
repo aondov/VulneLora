{
 "cells": [
  {
   "cell_type": "code",
   "execution_count": null,
   "id": "df186b98-151d-4e23-b89e-eec70c249931",
   "metadata": {},
   "outputs": [],
   "source": []
  }
 ],
 "metadata": {
  "kernelspec": {
   "display_name": "Python 3 (ipykernel)",
   "language": "python",
   "name": "python3"
  },
  "language_info": {
   "codemirror_mode": {
    "name": "ipython",
    "version": 3
   },
   "file_extension": ".py",
   "mimetype": "text/x-python",
   "name": "python",
   "nbconvert_exporter": "python",
   "pygments_lexer": "ipython3",
   "version": "3.9.2"
  }
 },
 "nbformat": 4,
 "nbformat_minor": 5
}
